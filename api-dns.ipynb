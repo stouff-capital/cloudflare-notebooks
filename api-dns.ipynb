{
 "cells": [
  {
   "cell_type": "code",
   "execution_count": null,
   "metadata": {},
   "outputs": [],
   "source": [
    "import requests\n",
    "import os\n",
    "import json"
   ]
  },
  {
   "cell_type": "code",
   "execution_count": null,
   "metadata": {},
   "outputs": [],
   "source": [
    "%load_ext dotenv\n",
    "%dotenv"
   ]
  },
  {
   "cell_type": "markdown",
   "metadata": {},
   "source": [
    "# Create DNS record https://api.cloudflare.com/#dns-records-for-a-zone-create-dns-record\n",
    "\n",
    "`POST https://api.cloudflare.com/client/v4/zones/:zone_identifier/dns_records`\n",
    "\n",
    "### example (curl)\n",
    "```\n",
    "curl -X POST \"https://api.cloudflare.com/client/v4/zones/:zone_identifier/dns_records\" \\\n",
    "     -H \"X-Auth-Email: user@example.com\" \\\n",
    "     -H \"X-Auth-Key: c2547eb745079dac9320b638f5e225cf483cc5cfdda41\" \\\n",
    "     -H \"Content-Type: application/json\" \\\n",
    "     --data '{\"type\":\"A\",\"name\":\"example.com\",\"content\":\"127.0.0.1\",\"ttl\":120,\"priority\":10,\"proxied\":false}'\n",
    "```"
   ]
  },
  {
   "cell_type": "code",
   "execution_count": null,
   "metadata": {},
   "outputs": [],
   "source": [
    "headers = {\"X-Auth-Email\": os.getenv('AUTH_EMAIL'),\n",
    "           \"X-Auth-Key\": os.getenv('AUTH_KEY')\n",
    "          }"
   ]
  },
  {
   "cell_type": "code",
   "execution_count": null,
   "metadata": {},
   "outputs": [],
   "source": [
    "dns_record = {\n",
    "    \"type\": \"CNAME\",\n",
    "    \"name\": \"lab\",\n",
    "    \"content\": \"stouffcapital.com.\",\n",
    "    \"ttl\": 1,\n",
    "    \"proxied\": True\n",
    "}"
   ]
  },
  {
   "cell_type": "code",
   "execution_count": null,
   "metadata": {},
   "outputs": [],
   "source": [
    "res = requests.post(\n",
    "    f\"https://api.cloudflare.com/client/v4/zones/{os.getenv('ZONE_IDENTIFIER')}/dns_records\", \n",
    "    headers=headers, \n",
    "    json=dns_record\n",
    ")\n",
    "json.loads(res.content)"
   ]
  },
  {
   "cell_type": "code",
   "execution_count": null,
   "metadata": {},
   "outputs": [],
   "source": []
  }
 ],
 "metadata": {
  "kernelspec": {
   "display_name": "Python 3",
   "language": "python",
   "name": "python3"
  },
  "language_info": {
   "codemirror_mode": {
    "name": "ipython",
    "version": 3
   },
   "file_extension": ".py",
   "mimetype": "text/x-python",
   "name": "python",
   "nbconvert_exporter": "python",
   "pygments_lexer": "ipython3",
   "version": "3.6.6"
  }
 },
 "nbformat": 4,
 "nbformat_minor": 2
}
